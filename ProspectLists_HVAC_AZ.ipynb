{
  "nbformat": 4,
  "nbformat_minor": 0,
  "metadata": {
    "colab": {
      "provenance": []
    },
    "kernelspec": {
      "name": "python3",
      "display_name": "Python 3"
    },
    "language_info": {
      "name": "python"
    }
  },
  "cells": [
    {
      "cell_type": "markdown",
      "source": [
        "#Bring in the file from google drive"
      ],
      "metadata": {
        "id": "pv76iZt-zL-3"
      }
    },
    {
      "cell_type": "code",
      "source": [
        "#Changing the HVAC\n",
        "from google.colab import drive\n",
        "\n",
        "drive.mount('/content/drive')\n"
      ],
      "metadata": {
        "id": "WCeGFKpko-RK",
        "colab": {
          "base_uri": "https://localhost:8080/"
        },
        "outputId": "3fbd9931-efce-47fe-fea8-75e71a953945"
      },
      "execution_count": 3,
      "outputs": [
        {
          "output_type": "stream",
          "name": "stdout",
          "text": [
            "Drive already mounted at /content/drive; to attempt to forcibly remount, call drive.mount(\"/content/drive\", force_remount=True).\n"
          ]
        }
      ]
    },
    {
      "cell_type": "markdown",
      "source": [
        "The data set HVAC_AZ was exported from google maps using the chrome extension: Instant Data Scraper"
      ],
      "metadata": {
        "id": "FE8yxiaXkNv5"
      }
    },
    {
      "cell_type": "code",
      "source": [
        "import pandas as pd\n",
        "\n",
        "# Replace 'your/path/to/csv' with the actual path to your CSV file\n",
        "csv_path = '/content/drive/MyDrive/*your/path/to/csv*/HVAC_AZ.csv'\n",
        "\n",
        "hvac_data = pd.read_csv(csv_path)\n",
        "hvac_data.head()"
      ],
      "metadata": {
        "id": "CKlr2gIp0iLv"
      },
      "execution_count": null,
      "outputs": []
    },
    {
      "cell_type": "markdown",
      "source": [
        "# Create functions to find each companies Yelp, Zoominfo and Linkedin"
      ],
      "metadata": {
        "id": "bgSr56NEkZHM"
      }
    },
    {
      "cell_type": "code",
      "source": [
        "from googlesearch import search\n",
        "\n",
        "def search_yelp(company_name):\n",
        "    query = f\"{company_name} Yelp\"\n",
        "    for j in search(query, num=1, stop=1, pause=2):\n",
        "        return j\n",
        "\n",
        "def search_zoominfo(company_name):\n",
        "    query = f\"{company_name} ZoomInfo\"\n",
        "    for j in search(query, num=1, stop=1, pause=2):\n",
        "        return j\n",
        "\n",
        "def search_linkedin(company_name):\n",
        "    query = f\"{company_name} LinkedIn\"\n",
        "    for j in search(query, num=1, stop=1, pause=2):\n",
        "        return j"
      ],
      "metadata": {
        "id": "ypzOIPpg0ndP"
      },
      "execution_count": null,
      "outputs": []
    },
    {
      "cell_type": "markdown",
      "source": [
        "# Add the companies Yelp, Zoominfo and Linkedin links"
      ],
      "metadata": {
        "id": "lEWmgvuBkpIr"
      }
    },
    {
      "cell_type": "code",
      "source": [
        "hvac_data['Yelp_Link'] = hvac_data['Name'].apply(search_yelp)\n",
        "hvac_data['ZoomInfo_Link'] = hvac_data['Name'].apply(search_zoominfo)\n",
        "hvac_data['LinkedIn_Link'] = hvac_data['Name'].apply(search_linkedin)"
      ],
      "metadata": {
        "id": "UbNCS9kZ1Wc1"
      },
      "execution_count": null,
      "outputs": []
    },
    {
      "cell_type": "code",
      "source": [
        "hvac_data.head()"
      ],
      "metadata": {
        "id": "HLW-6-i28JhX"
      },
      "execution_count": null,
      "outputs": []
    },
    {
      "cell_type": "markdown",
      "source": [
        "# Downloads"
      ],
      "metadata": {
        "id": "MReUJlUF3izu"
      }
    },
    {
      "cell_type": "code",
      "source": [
        "# Save the shrunk dataset to a new CSV file\n",
        "hvac_data.to_csv('/content/drive/MyDrive/Colab Notebooks/data/HVAC_AZ_shrunk.csv', index=False, sep=',')\n",
        "\n",
        "# Provide a download link for the file\n",
        "from google.colab import files\n",
        "files.download('/content/drive/MyDrive/Colab Notebooks/data/HVAC_AZ_shrunk.csv')"
      ],
      "metadata": {
        "colab": {
          "base_uri": "https://localhost:8080/",
          "height": 17
        },
        "id": "B8giJxDC2PcO",
        "outputId": "42f7a74d-262a-4d90-84ff-ecab2ff343ab"
      },
      "execution_count": null,
      "outputs": [
        {
          "output_type": "display_data",
          "data": {
            "text/plain": [
              "<IPython.core.display.Javascript object>"
            ],
            "application/javascript": [
              "\n",
              "    async function download(id, filename, size) {\n",
              "      if (!google.colab.kernel.accessAllowed) {\n",
              "        return;\n",
              "      }\n",
              "      const div = document.createElement('div');\n",
              "      const label = document.createElement('label');\n",
              "      label.textContent = `Downloading \"${filename}\": `;\n",
              "      div.appendChild(label);\n",
              "      const progress = document.createElement('progress');\n",
              "      progress.max = size;\n",
              "      div.appendChild(progress);\n",
              "      document.body.appendChild(div);\n",
              "\n",
              "      const buffers = [];\n",
              "      let downloaded = 0;\n",
              "\n",
              "      const channel = await google.colab.kernel.comms.open(id);\n",
              "      // Send a message to notify the kernel that we're ready.\n",
              "      channel.send({})\n",
              "\n",
              "      for await (const message of channel.messages) {\n",
              "        // Send a message to notify the kernel that we're ready.\n",
              "        channel.send({})\n",
              "        if (message.buffers) {\n",
              "          for (const buffer of message.buffers) {\n",
              "            buffers.push(buffer);\n",
              "            downloaded += buffer.byteLength;\n",
              "            progress.value = downloaded;\n",
              "          }\n",
              "        }\n",
              "      }\n",
              "      const blob = new Blob(buffers, {type: 'application/binary'});\n",
              "      const a = document.createElement('a');\n",
              "      a.href = window.URL.createObjectURL(blob);\n",
              "      a.download = filename;\n",
              "      div.appendChild(a);\n",
              "      a.click();\n",
              "      div.remove();\n",
              "    }\n",
              "  "
            ]
          },
          "metadata": {}
        },
        {
          "output_type": "display_data",
          "data": {
            "text/plain": [
              "<IPython.core.display.Javascript object>"
            ],
            "application/javascript": [
              "download(\"download_4b5a9592-473d-42b5-9cef-3037bf072806\", \"HVAC_AZ_shrunk.csv\", 65971)"
            ]
          },
          "metadata": {}
        }
      ]
    }
  ]
}